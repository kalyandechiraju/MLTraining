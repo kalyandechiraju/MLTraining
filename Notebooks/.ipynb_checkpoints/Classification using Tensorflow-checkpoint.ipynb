{
 "cells": [
  {
   "cell_type": "markdown",
   "metadata": {},
   "source": [
    "# Classification of House Prices using Tensorflow"
   ]
  },
  {
   "cell_type": "code",
   "execution_count": 2,
   "metadata": {
    "collapsed": true
   },
   "outputs": [],
   "source": [
    "# For working with data as tables\n",
    "import pandas as pd\n",
    "# For number matrices\n",
    "import numpy as np\n",
    "# For plotting\n",
    "import matplotlib.pyplot as plot\n",
    "# Tensorflow\n",
    "import tensorflow as tf"
   ]
  },
  {
   "cell_type": "code",
   "execution_count": 3,
   "metadata": {},
   "outputs": [
    {
     "data": {
      "text/html": [
       "<div>\n",
       "<table border=\"1\" class=\"dataframe\">\n",
       "  <thead>\n",
       "    <tr style=\"text-align: right;\">\n",
       "      <th></th>\n",
       "      <th>area</th>\n",
       "      <th>bathrooms</th>\n",
       "    </tr>\n",
       "  </thead>\n",
       "  <tbody>\n",
       "    <tr>\n",
       "      <th>0</th>\n",
       "      <td>2104</td>\n",
       "      <td>3</td>\n",
       "    </tr>\n",
       "    <tr>\n",
       "      <th>1</th>\n",
       "      <td>1600</td>\n",
       "      <td>3</td>\n",
       "    </tr>\n",
       "    <tr>\n",
       "      <th>2</th>\n",
       "      <td>2400</td>\n",
       "      <td>3</td>\n",
       "    </tr>\n",
       "    <tr>\n",
       "      <th>3</th>\n",
       "      <td>1416</td>\n",
       "      <td>2</td>\n",
       "    </tr>\n",
       "    <tr>\n",
       "      <th>4</th>\n",
       "      <td>3000</td>\n",
       "      <td>4</td>\n",
       "    </tr>\n",
       "    <tr>\n",
       "      <th>5</th>\n",
       "      <td>1985</td>\n",
       "      <td>4</td>\n",
       "    </tr>\n",
       "    <tr>\n",
       "      <th>6</th>\n",
       "      <td>1534</td>\n",
       "      <td>3</td>\n",
       "    </tr>\n",
       "    <tr>\n",
       "      <th>7</th>\n",
       "      <td>1427</td>\n",
       "      <td>3</td>\n",
       "    </tr>\n",
       "    <tr>\n",
       "      <th>8</th>\n",
       "      <td>1380</td>\n",
       "      <td>3</td>\n",
       "    </tr>\n",
       "    <tr>\n",
       "      <th>9</th>\n",
       "      <td>1494</td>\n",
       "      <td>3</td>\n",
       "    </tr>\n",
       "  </tbody>\n",
       "</table>\n",
       "</div>"
      ],
      "text/plain": [
       "   area  bathrooms\n",
       "0  2104          3\n",
       "1  1600          3\n",
       "2  2400          3\n",
       "3  1416          2\n",
       "4  3000          4\n",
       "5  1985          4\n",
       "6  1534          3\n",
       "7  1427          3\n",
       "8  1380          3\n",
       "9  1494          3"
      ]
     },
     "execution_count": 3,
     "metadata": {},
     "output_type": "execute_result"
    }
   ],
   "source": [
    "# Load data\n",
    "dataframe = pd.read_csv(\"../Datasets/house_pricing.csv\")\n",
    "# Remove unnecessary features\n",
    "dataframe = dataframe.drop(['index', 'price', 'sq_price'], axis=1)\n",
    "dataframe = dataframe[0:10]\n",
    "dataframe"
   ]
  },
  {
   "cell_type": "code",
   "execution_count": 4,
   "metadata": {},
   "outputs": [
    {
     "data": {
      "text/html": [
       "<div>\n",
       "<table border=\"1\" class=\"dataframe\">\n",
       "  <thead>\n",
       "    <tr style=\"text-align: right;\">\n",
       "      <th></th>\n",
       "      <th>area</th>\n",
       "      <th>bathrooms</th>\n",
       "      <th>y1</th>\n",
       "      <th>y2</th>\n",
       "    </tr>\n",
       "  </thead>\n",
       "  <tbody>\n",
       "    <tr>\n",
       "      <th>0</th>\n",
       "      <td>2104</td>\n",
       "      <td>3</td>\n",
       "      <td>1</td>\n",
       "      <td>0</td>\n",
       "    </tr>\n",
       "    <tr>\n",
       "      <th>1</th>\n",
       "      <td>1600</td>\n",
       "      <td>3</td>\n",
       "      <td>1</td>\n",
       "      <td>0</td>\n",
       "    </tr>\n",
       "    <tr>\n",
       "      <th>2</th>\n",
       "      <td>2400</td>\n",
       "      <td>3</td>\n",
       "      <td>1</td>\n",
       "      <td>0</td>\n",
       "    </tr>\n",
       "    <tr>\n",
       "      <th>3</th>\n",
       "      <td>1416</td>\n",
       "      <td>2</td>\n",
       "      <td>0</td>\n",
       "      <td>1</td>\n",
       "    </tr>\n",
       "    <tr>\n",
       "      <th>4</th>\n",
       "      <td>3000</td>\n",
       "      <td>4</td>\n",
       "      <td>0</td>\n",
       "      <td>1</td>\n",
       "    </tr>\n",
       "    <tr>\n",
       "      <th>5</th>\n",
       "      <td>1985</td>\n",
       "      <td>4</td>\n",
       "      <td>1</td>\n",
       "      <td>0</td>\n",
       "    </tr>\n",
       "    <tr>\n",
       "      <th>6</th>\n",
       "      <td>1534</td>\n",
       "      <td>3</td>\n",
       "      <td>0</td>\n",
       "      <td>1</td>\n",
       "    </tr>\n",
       "    <tr>\n",
       "      <th>7</th>\n",
       "      <td>1427</td>\n",
       "      <td>3</td>\n",
       "      <td>1</td>\n",
       "      <td>0</td>\n",
       "    </tr>\n",
       "    <tr>\n",
       "      <th>8</th>\n",
       "      <td>1380</td>\n",
       "      <td>3</td>\n",
       "      <td>1</td>\n",
       "      <td>0</td>\n",
       "    </tr>\n",
       "    <tr>\n",
       "      <th>9</th>\n",
       "      <td>1494</td>\n",
       "      <td>3</td>\n",
       "      <td>1</td>\n",
       "      <td>0</td>\n",
       "    </tr>\n",
       "  </tbody>\n",
       "</table>\n",
       "</div>"
      ],
      "text/plain": [
       "   area  bathrooms  y1  y2\n",
       "0  2104          3   1   0\n",
       "1  1600          3   1   0\n",
       "2  2400          3   1   0\n",
       "3  1416          2   0   1\n",
       "4  3000          4   0   1\n",
       "5  1985          4   1   0\n",
       "6  1534          3   0   1\n",
       "7  1427          3   1   0\n",
       "8  1380          3   1   0\n",
       "9  1494          3   1   0"
      ]
     },
     "execution_count": 4,
     "metadata": {},
     "output_type": "execute_result"
    }
   ],
   "source": [
    "# Label the data\n",
    "# 1 is a good buy and 0 is a bad buy\n",
    "dataframe.loc[:, ('y1')] = [1, 1, 1, 0, 0, 1, 0, 1, 1, 1]\n",
    "# y2 is a negation of y1\n",
    "dataframe.loc[:, ('y2')] = dataframe['y1'] == 0\n",
    "# Converting TRUE/FALSE to 1 and 0\n",
    "dataframe.loc[:, ('y2')] = dataframe['y2'].astype(int)\n",
    "dataframe"
   ]
  },
  {
   "cell_type": "code",
   "execution_count": 5,
   "metadata": {
    "collapsed": true
   },
   "outputs": [],
   "source": [
    "# Prepare data for Tensorflow (tensors)\n",
    "# tensors - generic version of vectors and matrices\n",
    "# vector - list of numbers (1D tensor)\n",
    "# matrix - list of list of numbers (2D tensor)\n",
    "# list of list of list of numbers - 3D tensor\n",
    "# and the list continues\n",
    "# tensors are how we represent data in tensorflow\n",
    "\n",
    "# Convert features into input tensor\n",
    "inputX = dataframe.loc[:, ['area', 'bathrooms']].as_matrix()\n",
    "# Convert labels into input tensor\n",
    "inputY = dataframe.loc[:, ['y1', 'y2']].as_matrix()"
   ]
  },
  {
   "cell_type": "code",
   "execution_count": 6,
   "metadata": {},
   "outputs": [
    {
     "data": {
      "text/plain": [
       "array([[  2.10400000e+03,   3.00000000e+00],\n",
       "       [  1.60000000e+03,   3.00000000e+00],\n",
       "       [  2.40000000e+03,   3.00000000e+00],\n",
       "       [  1.41600000e+03,   2.00000000e+00],\n",
       "       [  3.00000000e+03,   4.00000000e+00],\n",
       "       [  1.98500000e+03,   4.00000000e+00],\n",
       "       [  1.53400000e+03,   3.00000000e+00],\n",
       "       [  1.42700000e+03,   3.00000000e+00],\n",
       "       [  1.38000000e+03,   3.00000000e+00],\n",
       "       [  1.49400000e+03,   3.00000000e+00]])"
      ]
     },
     "execution_count": 6,
     "metadata": {},
     "output_type": "execute_result"
    }
   ],
   "source": [
    "inputX"
   ]
  },
  {
   "cell_type": "code",
   "execution_count": 7,
   "metadata": {},
   "outputs": [
    {
     "data": {
      "text/plain": [
       "array([[1, 0],\n",
       "       [1, 0],\n",
       "       [1, 0],\n",
       "       [0, 1],\n",
       "       [0, 1],\n",
       "       [1, 0],\n",
       "       [0, 1],\n",
       "       [1, 0],\n",
       "       [1, 0],\n",
       "       [1, 0]])"
      ]
     },
     "execution_count": 7,
     "metadata": {},
     "output_type": "execute_result"
    }
   ],
   "source": [
    "inputY"
   ]
  },
  {
   "cell_type": "code",
   "execution_count": 47,
   "metadata": {
    "collapsed": true
   },
   "outputs": [],
   "source": [
    "# Hyperparamets\n",
    "learning_rate = 0.000001\n",
    "training_epochs = 2000\n",
    "# how often we want to display the process of training\n",
    "display_step = 50\n",
    "n_samples = inputY.size"
   ]
  },
  {
   "cell_type": "markdown",
   "metadata": {},
   "source": [
    "<img src=\"../Assets/softmaxnn.png\" />"
   ]
  },
  {
   "cell_type": "code",
   "execution_count": 23,
   "metadata": {},
   "outputs": [
    {
     "data": {
      "text/plain": [
       "<tf.Tensor 'Softmax_10:0' shape=(?, 2) dtype=float32>"
      ]
     },
     "execution_count": 23,
     "metadata": {},
     "output_type": "execute_result"
    }
   ],
   "source": [
    "# Create our computational graph/nueral network\n",
    "# In tensorflow placeholders are gateways for data into our computation graph\n",
    "# Placeholder for feature input tensor\n",
    "# None => any number of example\n",
    "# 2 => number of features\n",
    "x = tf.placeholder(tf.float32, [None, 2])\n",
    "\n",
    "# Define weights\n",
    "# 2x2 float martix, starting with zeros and we will keep updating this through the training process\n",
    "# Variables in tf hold and update parameters (in memory buffers holding tensors)\n",
    "w = tf.Variable(tf.zeros([2,2]))\n",
    "\n",
    "# define bias\n",
    "# bias is like 'b' in y = mx + b equation in gradient descent\n",
    "# we update values of bias through 'back propagation'\n",
    "b = tf.Variable(tf.zeros([2]))\n",
    "\n",
    "# Multiply our weights by inputs\n",
    "# Weights govern the flow of data in our computation graph\n",
    "# multiply inputs with weights and add biases\n",
    "y_values = tf.add(tf.matmul(x, w), b)\n",
    "\n",
    "# Applying softmax function to the above y_values\n",
    "# Softmax function is our activation function - it normalizes our values\n",
    "y = tf.nn.softmax(y_values)\n",
    "\n",
    "# Feed in a matrix of labels\n",
    "y_ = tf.placeholder(tf.float32, [None, 2])\n",
    "y"
   ]
  },
  {
   "cell_type": "code",
   "execution_count": 27,
   "metadata": {},
   "outputs": [
    {
     "data": {
      "text/plain": [
       "<tf.Operation 'GradientDescent_2' type=NoOp>"
      ]
     },
     "execution_count": 27,
     "metadata": {},
     "output_type": "execute_result"
    }
   ],
   "source": [
    "# Perform Training\n",
    "\n",
    "# Create our cost function - Mean squared error\n",
    "# reduce_sum: Computes the sum of elements across dimensions of a tensor.\n",
    "cost = tf.reduce_sum(tf.pow(y_ - y, 2))/(2*n_samples)\n",
    "\n",
    "# Applying Gradient Descent\n",
    "# GradientDescentOptimizer: Optimizer that implements the gradient descent algorithm.\n",
    "optimizer = tf.train.GradientDescentOptimizer(learning_rate).minimize(cost)\n",
    "optimizer"
   ]
  },
  {
   "cell_type": "code",
   "execution_count": 42,
   "metadata": {},
   "outputs": [
    {
     "name": "stdout",
     "output_type": "stream",
     "text": [
      "WARNING:tensorflow:From /Users/kalyandechiraju/anaconda2/lib/python2.7/site-packages/tensorflow/python/util/tf_should_use.py:170: initialize_all_variables (from tensorflow.python.ops.variables) is deprecated and will be removed after 2017-03-02.\n",
      "Instructions for updating:\n",
      "Use `tf.global_variables_initializer` instead.\n"
     ]
    }
   ],
   "source": [
    "# Initialize all variables and start Tensorflow session\n",
    "init = tf.initialize_all_variables()\n",
    "# print(init)\n",
    "session = tf.Session()\n",
    "session.run(init)"
   ]
  },
  {
   "cell_type": "code",
   "execution_count": 49,
   "metadata": {},
   "outputs": [
    {
     "name": "stdout",
     "output_type": "stream",
     "text": [
      "Training step: 0000 cost= 0.109530188\n",
      "Training step: 0050 cost= 0.109530114\n",
      "Training step: 0100 cost= 0.109530047\n",
      "Training step: 0150 cost= 0.109529972\n",
      "Training step: 0200 cost= 0.109529898\n",
      "Training step: 0250 cost= 0.109529831\n",
      "Training step: 0300 cost= 0.109529778\n",
      "Training step: 0350 cost= 0.109529711\n",
      "Training step: 0400 cost= 0.109529637\n",
      "Training step: 0450 cost= 0.109529570\n",
      "Training step: 0500 cost= 0.109529495\n",
      "Training step: 0550 cost= 0.109529421\n",
      "Training step: 0600 cost= 0.109529376\n",
      "Training step: 0650 cost= 0.109529302\n",
      "Training step: 0700 cost= 0.109529234\n",
      "Training step: 0750 cost= 0.109529160\n",
      "Training step: 0800 cost= 0.109529093\n",
      "Training step: 0850 cost= 0.109529033\n",
      "Training step: 0900 cost= 0.109528944\n",
      "Training step: 0950 cost= 0.109528899\n",
      "Training step: 1000 cost= 0.109528817\n",
      "Training step: 1050 cost= 0.109528758\n",
      "Training step: 1100 cost= 0.109528683\n",
      "Training step: 1150 cost= 0.109528616\n",
      "Training step: 1200 cost= 0.109528542\n",
      "Training step: 1250 cost= 0.109528467\n",
      "Training step: 1300 cost= 0.109528407\n",
      "Training step: 1350 cost= 0.109528348\n",
      "Training step: 1400 cost= 0.109528281\n",
      "Training step: 1450 cost= 0.109528206\n",
      "Training step: 1500 cost= 0.109528139\n",
      "Training step: 1550 cost= 0.109528065\n",
      "Training step: 1600 cost= 0.109528005\n",
      "Training step: 1650 cost= 0.109527923\n",
      "Training step: 1700 cost= 0.109527871\n",
      "Training step: 1750 cost= 0.109527789\n",
      "Training step: 1800 cost= 0.109527729\n",
      "Training step: 1850 cost= 0.109527662\n",
      "Training step: 1900 cost= 0.109527588\n",
      "Training step: 1950 cost= 0.109527528\n",
      "Optimization Finished!\n",
      "Training cost= 0.109527 W= [[ 0.00021378 -0.00021378]\n",
      " [ 0.00023451 -0.00023451]] b= [  5.43698734e-05  -5.43698843e-05] \n",
      "\n"
     ]
    }
   ],
   "source": [
    "for i in range(training_epochs):  \n",
    "    # Take a gradient descent step using our inputs and labels\n",
    "    session.run(optimizer, feed_dict={x: inputX, y_: inputY})\n",
    "\n",
    "    # That's all! The rest of the cell just outputs debug messages. \n",
    "    # Display logs per epoch step\n",
    "    if (i) % display_step == 0:\n",
    "        cc = session.run(cost, feed_dict={x: inputX, y_:inputY})\n",
    "        print \"Training step:\", '%04d' % (i), \"cost=\", \"{:.9f}\".format(cc) \n",
    "        #, \\\"W=\", sess.run(W), \"b=\", sess.run(b)\n",
    "\n",
    "print \"Optimization Finished!\"\n",
    "training_cost = session.run(cost, feed_dict={x: inputX, y_: inputY})\n",
    "print \"Training cost=\", training_cost, \"W=\", session.run(w), \"b=\", session.run(b), '\\n'"
   ]
  },
  {
   "cell_type": "code",
   "execution_count": 55,
   "metadata": {},
   "outputs": [
    {
     "data": {
      "text/plain": [
       "array([ 0.26894143,  0.7310586 ], dtype=float32)"
      ]
     },
     "execution_count": 55,
     "metadata": {},
     "output_type": "execute_result"
    }
   ],
   "source": [
    "# So It's guessing they're all good houses. \n",
    "# That makes it get 7/10 correct. Not terribly impressive. \n",
    "# A model with a hidden layer should do better, I guess.\n",
    "# Btw, this is how I calculated the softmax values in the post:\n",
    "session.run(tf.nn.softmax([1., 2.]))"
   ]
  }
 ],
 "metadata": {
  "kernelspec": {
   "display_name": "Python 2",
   "language": "python",
   "name": "python2"
  },
  "language_info": {
   "codemirror_mode": {
    "name": "ipython",
    "version": 2
   },
   "file_extension": ".py",
   "mimetype": "text/x-python",
   "name": "python",
   "nbconvert_exporter": "python",
   "pygments_lexer": "ipython2",
   "version": "2.7.12"
  }
 },
 "nbformat": 4,
 "nbformat_minor": 1
}
